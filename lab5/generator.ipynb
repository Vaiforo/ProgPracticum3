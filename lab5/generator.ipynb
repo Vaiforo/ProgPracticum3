{
 "cells": [
  {
   "cell_type": "code",
   "execution_count": null,
   "id": "ff5d950e",
   "metadata": {},
   "outputs": [],
   "source": [
    "import pandas as pd\n",
    "import numpy as np\n",
    "import random\n",
    "\n",
    "\n",
    "def generate_data(n, num_str=100):\n",
    "\n",
    "    df = pd.DataFrame()\n",
    "\n",
    "    for j in range(1, 3):\n",
    "        for i in range(n):\n",
    "            if i == 0:\n",
    "                df[f'obj{j}_feature_{i+1}'] = np.random.randint(\n",
    "                    0, 2, size=num_str)\n",
    "            elif i == 1:\n",
    "                df[f'obj{j}_feature_{i+1}'] = np.random.uniform(\n",
    "                    0, 100, size=num_str)\n",
    "            else:\n",
    "                df[f'obj{j}_feature_{i+1}'] = np.random.randn(num_str)\n",
    "\n",
    "    df['collision'] = np.random.randint(0, 2, size=num_str)\n",
    "\n",
    "    return df\n",
    "\n",
    "\n",
    "def get_random_value(parameters):\n",
    "    range = random.choice(parameters)\n",
    "    return random.randint(range[0], range[1])"
   ]
  },
  {
   "cell_type": "code",
   "execution_count": 6,
   "id": "c10aa694",
   "metadata": {},
   "outputs": [],
   "source": [
    "data = generate_data(5)\n",
    "\n",
    "data.to_json(\"data.json\", orient=\"records\", indent=4, force_ascii=False)"
   ]
  }
 ],
 "metadata": {
  "kernelspec": {
   "display_name": "venv",
   "language": "python",
   "name": "python3"
  },
  "language_info": {
   "codemirror_mode": {
    "name": "ipython",
    "version": 3
   },
   "file_extension": ".py",
   "mimetype": "text/x-python",
   "name": "python",
   "nbconvert_exporter": "python",
   "pygments_lexer": "ipython3",
   "version": "3.13.2"
  }
 },
 "nbformat": 4,
 "nbformat_minor": 5
}
